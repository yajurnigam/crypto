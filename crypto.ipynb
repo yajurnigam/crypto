{
  "nbformat": 4,
  "nbformat_minor": 0,
  "metadata": {
    "colab": {
      "name": "crypto.ipynb",
      "provenance": [],
      "collapsed_sections": []
    },
    "kernelspec": {
      "name": "python3",
      "display_name": "Python 3"
    },
    "language_info": {
      "name": "python"
    }
  },
  "cells": [
    {
      "cell_type": "code",
      "execution_count": 1,
      "metadata": {
        "id": "61YGAaIOM9k3",
        "colab": {
          "base_uri": "https://localhost:8080/"
        },
        "outputId": "f766b6d7-d877-4b22-a6c0-6da88d722814"
      },
      "outputs": [
        {
          "output_type": "stream",
          "name": "stdout",
          "text": [
            "Collecting snowflake-connector-python\n",
            "  Downloading snowflake_connector_python-2.7.7-cp37-cp37m-manylinux_2_12_x86_64.manylinux2010_x86_64.manylinux_2_17_x86_64.manylinux2014_x86_64.whl (16.5 MB)\n",
            "\u001b[K     |████████████████████████████████| 16.5 MB 5.4 MB/s \n",
            "\u001b[?25hRequirement already satisfied: idna<4,>=2.5 in /usr/local/lib/python3.7/dist-packages (from snowflake-connector-python) (2.10)\n",
            "Collecting pycryptodomex!=3.5.0,<4.0.0,>=3.2\n",
            "  Downloading pycryptodomex-3.14.1-cp35-abi3-manylinux2010_x86_64.whl (2.0 MB)\n",
            "\u001b[K     |████████████████████████████████| 2.0 MB 38.6 MB/s \n",
            "\u001b[?25hCollecting cryptography<37.0.0,>=3.1.0\n",
            "  Downloading cryptography-36.0.2-cp36-abi3-manylinux_2_24_x86_64.whl (3.6 MB)\n",
            "\u001b[K     |████████████████████████████████| 3.6 MB 42.5 MB/s \n",
            "\u001b[?25hRequirement already satisfied: certifi>=2017.4.17 in /usr/local/lib/python3.7/dist-packages (from snowflake-connector-python) (2021.10.8)\n",
            "Collecting asn1crypto<2.0.0,>0.24.0\n",
            "  Downloading asn1crypto-1.5.1-py2.py3-none-any.whl (105 kB)\n",
            "\u001b[K     |████████████████████████████████| 105 kB 43.4 MB/s \n",
            "\u001b[?25hCollecting pyOpenSSL<22.0.0,>=16.2.0\n",
            "  Downloading pyOpenSSL-21.0.0-py2.py3-none-any.whl (55 kB)\n",
            "\u001b[K     |████████████████████████████████| 55 kB 3.2 MB/s \n",
            "\u001b[?25hCollecting pyjwt<3.0.0\n",
            "  Downloading PyJWT-2.3.0-py3-none-any.whl (16 kB)\n",
            "Requirement already satisfied: setuptools>34.0.0 in /usr/local/lib/python3.7/dist-packages (from snowflake-connector-python) (57.4.0)\n",
            "Collecting oscrypto<2.0.0\n",
            "  Downloading oscrypto-1.3.0-py2.py3-none-any.whl (194 kB)\n",
            "\u001b[K     |████████████████████████████████| 194 kB 42.5 MB/s \n",
            "\u001b[?25hRequirement already satisfied: requests<3.0.0 in /usr/local/lib/python3.7/dist-packages (from snowflake-connector-python) (2.23.0)\n",
            "Requirement already satisfied: charset-normalizer~=2.0.0 in /usr/local/lib/python3.7/dist-packages (from snowflake-connector-python) (2.0.12)\n",
            "Requirement already satisfied: pytz in /usr/local/lib/python3.7/dist-packages (from snowflake-connector-python) (2022.1)\n",
            "Requirement already satisfied: cffi<2.0.0,>=1.9 in /usr/local/lib/python3.7/dist-packages (from snowflake-connector-python) (1.15.0)\n",
            "Requirement already satisfied: pycparser in /usr/local/lib/python3.7/dist-packages (from cffi<2.0.0,>=1.9->snowflake-connector-python) (2.21)\n",
            "Requirement already satisfied: six>=1.5.2 in /usr/local/lib/python3.7/dist-packages (from pyOpenSSL<22.0.0,>=16.2.0->snowflake-connector-python) (1.15.0)\n",
            "Requirement already satisfied: chardet<4,>=3.0.2 in /usr/local/lib/python3.7/dist-packages (from requests<3.0.0->snowflake-connector-python) (3.0.4)\n",
            "Requirement already satisfied: urllib3!=1.25.0,!=1.25.1,<1.26,>=1.21.1 in /usr/local/lib/python3.7/dist-packages (from requests<3.0.0->snowflake-connector-python) (1.24.3)\n",
            "Installing collected packages: cryptography, asn1crypto, pyOpenSSL, pyjwt, pycryptodomex, oscrypto, snowflake-connector-python\n",
            "Successfully installed asn1crypto-1.5.1 cryptography-36.0.2 oscrypto-1.3.0 pyOpenSSL-21.0.0 pycryptodomex-3.14.1 pyjwt-2.3.0 snowflake-connector-python-2.7.7\n"
          ]
        }
      ],
      "source": [
        "!pip install snowflake-connector-python\n",
        "import requests,json\n",
        "import pandas as pd\n",
        "from snowflake.connector.pandas_tools import write_pandas"
      ]
    },
    {
      "cell_type": "code",
      "source": [
        "url=\"http://api.coincap.io/v2/assets\""
      ],
      "metadata": {
        "id": "YRP2oyYTNhh1"
      },
      "execution_count": 2,
      "outputs": []
    },
    {
      "cell_type": "code",
      "source": [
        "from requests.api import head\n",
        "headers={\n",
        "    'Accept':'aplication/json',\n",
        "    'Content-Type': 'aplication/json'\n",
        "    \n",
        "}"
      ],
      "metadata": {
        "id": "Ox2cja_cPLi0"
      },
      "execution_count": 3,
      "outputs": []
    },
    {
      "cell_type": "code",
      "source": [
        "response=requests.request(\"GET\",url,headers=headers,data={})"
      ],
      "metadata": {
        "id": "6ZjvLdqfPuDe"
      },
      "execution_count": 4,
      "outputs": []
    },
    {
      "cell_type": "code",
      "source": [
        "my_json=response.json()\n",
        "print(my_json)"
      ],
      "metadata": {
        "colab": {
          "base_uri": "https://localhost:8080/"
        },
        "id": "vSuqFDkyR4tF",
        "outputId": "a881bd05-a714-4fcd-e714-1b8b9afe717e"
      },
      "execution_count": 5,
      "outputs": [
        {
          "output_type": "stream",
          "name": "stdout",
          "text": [
            "{'data': [{'id': 'bitcoin', 'rank': '1', 'symbol': 'BTC', 'name': 'Bitcoin', 'supply': '19028700.0000000000000000', 'maxSupply': '21000000.0000000000000000', 'marketCapUsd': '733526579722.8092072358962700', 'volumeUsd24Hr': '13621135803.9837175261340677', 'priceUsd': '38548.4336671874172821', 'changePercent24Hr': '1.6112159052456072', 'vwap24Hr': '38432.4106587313005715', 'explorer': 'https://blockchain.info/'}, {'id': 'ethereum', 'rank': '2', 'symbol': 'ETH', 'name': 'Ethereum', 'supply': '120617983.6240000000000000', 'maxSupply': None, 'marketCapUsd': '342818758360.6427285652014936', 'volumeUsd24Hr': '9603201327.5565820601662992', 'priceUsd': '2842.1861157064663597', 'changePercent24Hr': '2.4468514561393891', 'vwap24Hr': '2810.3357161109758602', 'explorer': 'https://etherscan.io/'}, {'id': 'tether', 'rank': '3', 'symbol': 'USDT', 'name': 'Tether', 'supply': '83152877108.0891000000000000', 'maxSupply': None, 'marketCapUsd': '83192473083.3925328715333089', 'volumeUsd24Hr': '27230099458.7011172690179401', 'priceUsd': '1.0004761828655906', 'changePercent24Hr': '-0.3009731198753961', 'vwap24Hr': '1.0010984814046358', 'explorer': 'https://www.omniexplorer.info/asset/31'}, {'id': 'binance-coin', 'rank': '4', 'symbol': 'BNB', 'name': 'BNB', 'supply': '166801148.0000000000000000', 'maxSupply': '166801148.0000000000000000', 'marketCapUsd': '64683634877.1140721089956780', 'volumeUsd24Hr': '524360244.2120009745828907', 'priceUsd': '387.7889070470550485', 'changePercent24Hr': '0.5053452742451215', 'vwap24Hr': '389.0867244641905858', 'explorer': 'https://etherscan.io/token/0xB8c77482e45F1F44dE1745F52C74426C631bDD52'}, {'id': 'usd-coin', 'rank': '5', 'symbol': 'USDC', 'name': 'USD Coin', 'supply': '49293836470.9739150000000000', 'maxSupply': None, 'marketCapUsd': '49320646368.5375013828150770', 'volumeUsd24Hr': '1542422767.5717467324571792', 'priceUsd': '1.0005438793058717', 'changePercent24Hr': '-0.3157640815960457', 'vwap24Hr': '1.0018086898940974', 'explorer': 'https://etherscan.io/token/0xa0b86991c6218b36c1d19d4a2e9eb0ce3606eb48'}, {'id': 'solana', 'rank': '6', 'symbol': 'SOL', 'name': 'Solana', 'supply': '334402546.0253920000000000', 'maxSupply': None, 'marketCapUsd': '29179245088.4174799852345231', 'volumeUsd24Hr': '325040701.5830242395015055', 'priceUsd': '87.2578436834085253', 'changePercent24Hr': '-1.0253457277015314', 'vwap24Hr': '88.4363162920068118', 'explorer': 'https://explorer.solana.com/'}, {'id': 'terra-luna', 'rank': '7', 'symbol': 'LUNA', 'name': 'Terra', 'supply': '344277919.1353345500000000', 'maxSupply': None, 'marketCapUsd': '28417454081.9810659602908944', 'volumeUsd24Hr': '573428163.1549214305436201', 'priceUsd': '82.5421919400246391', 'changePercent24Hr': '3.0325523636078400', 'vwap24Hr': '82.9128089437837076', 'explorer': 'https://finder.terra.money/'}, {'id': 'xrp', 'rank': '8', 'symbol': 'XRP', 'name': 'XRP', 'supply': '45404028640.0000000000000000', 'maxSupply': '100000000000.0000000000000000', 'marketCapUsd': '27617581493.2184535744411520', 'volumeUsd24Hr': '757394653.8988968919014950', 'priceUsd': '0.6082627978277668', 'changePercent24Hr': '1.4533741196637624', 'vwap24Hr': '0.6143186462792504', 'explorer': 'https://xrpcharts.ripple.com/#/graph/'}, {'id': 'cardano', 'rank': '9', 'symbol': 'ADA', 'name': 'Cardano', 'supply': '33739028515.7550000000000000', 'maxSupply': '45000000000.0000000000000000', 'marketCapUsd': '26249185322.8300834609304172', 'volumeUsd24Hr': '414913937.0487760109514293', 'priceUsd': '0.7780065543550725', 'changePercent24Hr': '0.6232112069749600', 'vwap24Hr': '0.7828902229414705', 'explorer': 'https://cardanoexplorer.com/'}, {'id': 'terrausd', 'rank': '10', 'symbol': 'UST', 'name': 'TerraUSD', 'supply': '18583745283.1905800000000000', 'maxSupply': None, 'marketCapUsd': '18421808545.5711952605012483', 'volumeUsd24Hr': '51153453.1118344026649038', 'priceUsd': '0.9912861086314038', 'changePercent24Hr': '-0.1384564661284128', 'vwap24Hr': '0.9994142842499631', 'explorer': 'https://finder.terra.money/'}, {'id': 'binance-usd', 'rank': '11', 'symbol': 'BUSD', 'name': 'Binance USD', 'supply': '17756377612.4092560000000000', 'maxSupply': None, 'marketCapUsd': '17779028437.6434735591642047', 'volumeUsd24Hr': '738620142.6270162390826297', 'priceUsd': '1.0012756444883436', 'changePercent24Hr': '-0.2897516121705198', 'vwap24Hr': '1.0020092796349440', 'explorer': 'https://etherscan.io/token/0x4Fabb145d64652a948d72533023f6E7A623C7C53'}, {'id': 'dogecoin', 'rank': '12', 'symbol': 'DOGE', 'name': 'Dogecoin', 'supply': '132670764299.8940900000000000', 'maxSupply': None, 'marketCapUsd': '17359965301.5387539870378159', 'volumeUsd24Hr': '342891006.0048590651730877', 'priceUsd': '0.1308499682891524', 'changePercent24Hr': '-0.0598288004623339', 'vwap24Hr': '0.1314121613904920', 'explorer': 'http://dogechain.info/chain/Dogecoin'}, {'id': 'polkadot', 'rank': '13', 'symbol': 'DOT', 'name': 'Polkadot', 'supply': '1108419829.4756900000000000', 'maxSupply': None, 'marketCapUsd': '16529387109.9795970176721634', 'volumeUsd24Hr': '333837744.9479781289179993', 'priceUsd': '14.9125689295890764', 'changePercent24Hr': '-0.9321905973250532', 'vwap24Hr': '15.1272530108189556', 'explorer': 'https://polkascan.io/polkadot'}, {'id': 'avalanche', 'rank': '14', 'symbol': 'AVAX', 'name': 'Avalanche', 'supply': '268625525.8927915000000000', 'maxSupply': None, 'marketCapUsd': '16054849665.5682060882110717', 'volumeUsd24Hr': '520304703.2586523931481721', 'priceUsd': '59.7666569928864457', 'changePercent24Hr': '3.4812175702997192', 'vwap24Hr': '59.2918767615305290', 'explorer': 'https://avascan.info/'}, {'id': 'shiba-inu', 'rank': '15', 'symbol': 'SHIB', 'name': 'Shiba Inu', 'supply': '549063278876301.9400000000000000', 'maxSupply': None, 'marketCapUsd': '11304134547.0064933613660131', 'volumeUsd24Hr': '479992559.7529166135033410', 'priceUsd': '0.0000205880359913', 'changePercent24Hr': '-2.6115276740029238', 'vwap24Hr': '0.0000210841401297', 'explorer': 'https://etherscan.io/token/0x95ad61b0a150d79219dcf64e1e6cc01f0b64c4ce'}, {'id': 'wrapped-bitcoin', 'rank': '16', 'symbol': 'WBTC', 'name': 'Wrapped Bitcoin', 'supply': '281906.0300098600000000', 'maxSupply': None, 'marketCapUsd': '10926844445.2689320753707173', 'volumeUsd24Hr': '338444814.0630294656657052', 'priceUsd': '38760.5914101473907602', 'changePercent24Hr': '2.2702892200265126', 'vwap24Hr': '38679.2740115282522193', 'explorer': 'https://etherscan.io/token/0x2260fac5e5542a773aa44fbcfedf7c193bc2c599'}, {'id': 'multi-collateral-dai', 'rank': '17', 'symbol': 'DAI', 'name': 'Multi Collateral DAI', 'supply': '8729192778.4307840000000000', 'maxSupply': None, 'marketCapUsd': '8730255730.2091636095828798', 'volumeUsd24Hr': '73903325.5321011936614414', 'priceUsd': '1.0001217697678766', 'changePercent24Hr': '-0.4177162032498005', 'vwap24Hr': '1.0012738396157444', 'explorer': 'https://etherscan.io/token/0x89d24a6b4ccb1b6faa2625fe562bdd9a23260359'}, {'id': 'polygon', 'rank': '18', 'symbol': 'MATIC', 'name': 'Polygon', 'supply': '7848866566.6200000000000000', 'maxSupply': '10000000000.0000000000000000', 'marketCapUsd': '8392948402.9743809537594068', 'volumeUsd24Hr': '442692467.0117300219145701', 'priceUsd': '1.0693197969077823', 'changePercent24Hr': '-0.2333373986460350', 'vwap24Hr': '1.0880397159390705', 'explorer': 'https://etherscan.io/token/0x7D1AfA7B718fb893dB30A3aBc0Cfc608AaCfeBB0'}, {'id': 'near-protocol', 'rank': '19', 'symbol': 'NEAR', 'name': 'NEAR Protocol', 'supply': '675370311.0000000000000000', 'maxSupply': '1000000000.0000000000000000', 'marketCapUsd': '7905769857.8012348888126202', 'volumeUsd24Hr': '473314012.0383395880060928', 'priceUsd': '11.7058297189513782', 'changePercent24Hr': '1.0024397068643968', 'vwap24Hr': '11.6903496817732755', 'explorer': 'https://explorer.nearprotocol.com/'}, {'id': 'litecoin', 'rank': '20', 'symbol': 'LTC', 'name': 'Litecoin', 'supply': '70198643.7779146400000000', 'maxSupply': '84000000.0000000000000000', 'marketCapUsd': '7064892340.4432237077909537', 'volumeUsd24Hr': '231044512.3003549243407656', 'priceUsd': '100.6414363615658065', 'changePercent24Hr': '2.7334275486119031', 'vwap24Hr': '99.8128518917366183', 'explorer': 'http://explorer.litecoin.net/chain/Litecoin'}, {'id': 'crypto-com-coin', 'rank': '21', 'symbol': 'CRO', 'name': 'Crypto.com Coin', 'supply': '25263013692.0000000000000000', 'maxSupply': '30263013692.0000000000000000', 'marketCapUsd': '6943828959.1433333829545112', 'volumeUsd24Hr': '142804334.3163093071455678', 'priceUsd': '0.2748614652155386', 'changePercent24Hr': '-9.2689602293142934', 'vwap24Hr': '0.2978162822066547', 'explorer': 'https://etherscan.io/token/0xa0b73e1ff0b80914ab6fe0444e65848c4c34450b'}, {'id': 'tron', 'rank': '22', 'symbol': 'TRX', 'name': 'TRON', 'supply': '101608418817.4557600000000000', 'maxSupply': None, 'marketCapUsd': '6799251694.4244557475888791', 'volumeUsd24Hr': '823856136.8164083299819379', 'priceUsd': '0.0669162238085766', 'changePercent24Hr': '-1.7852031156241261', 'vwap24Hr': '0.0699899128220481', 'explorer': 'https://tronscan.org/#/'}, {'id': 'unus-sed-leo', 'rank': '23', 'symbol': 'LEO', 'name': 'UNUS SED LEO', 'supply': '953954130.0000000000000000', 'maxSupply': None, 'marketCapUsd': '5415785046.9998443762255260', 'volumeUsd24Hr': '4491411.1847724675410126', 'priceUsd': '5.6771964989551902', 'changePercent24Hr': '2.0958669623927428', 'vwap24Hr': '5.5549378426655985', 'explorer': 'https://eospark.com/account/bitfinexleo1'}, {'id': 'bitcoin-cash', 'rank': '24', 'symbol': 'BCH', 'name': 'Bitcoin Cash', 'supply': '19052437.5000000000000000', 'maxSupply': '21000000.0000000000000000', 'marketCapUsd': '5415592916.6632504740355313', 'volumeUsd24Hr': '107549246.6073931184025972', 'priceUsd': '284.2467225867162915', 'changePercent24Hr': '1.0522916382387311', 'vwap24Hr': '284.2328594191552223', 'explorer': 'https://blockchair.com/bitcoin-cash/blocks'}, {'id': 'ftx-token', 'rank': '25', 'symbol': 'FTT', 'name': 'FTX Token', 'supply': '136898555.7187437400000000', 'maxSupply': '352170015.0000000000000000', 'marketCapUsd': '5409360567.0784486719641629', 'volumeUsd24Hr': '26906310.7339163071914546', 'priceUsd': '39.5136423366796355', 'changePercent24Hr': '2.5251805327146592', 'vwap24Hr': '39.0534887358370076', 'explorer': 'https://etherscan.io/token/0x50d1c9771902476076ecfc8b2a83ad6b9355a4c9'}, {'id': 'chainlink', 'rank': '26', 'symbol': 'LINK', 'name': 'Chainlink', 'supply': '467009549.5205637000000000', 'maxSupply': '1000000000.0000000000000000', 'marketCapUsd': '5177417434.5300813978562754', 'volumeUsd24Hr': '204027666.3229887032999918', 'priceUsd': '11.0863202687081362', 'changePercent24Hr': '0.6224245247771792', 'vwap24Hr': '11.1518232308606424', 'explorer': 'https://etherscan.io/token/0x514910771af9ca656af840dff83e8264ecf986ca'}, {'id': 'uniswap', 'rank': '27', 'symbol': 'UNI', 'name': 'Uniswap', 'supply': '690829834.9642788000000000', 'maxSupply': '1000000000.0000000000000000', 'marketCapUsd': '4716651513.4043598489728167', 'volumeUsd24Hr': '81965113.8904596269935405', 'priceUsd': '6.8275156553541827', 'changePercent24Hr': '-1.7252571716021422', 'vwap24Hr': '6.9349638769918409', 'explorer': 'https://etherscan.io/token/0x1f9840a85d5af5bf1d1762f925bdaddc4201f984'}, {'id': 'cosmos', 'rank': '28', 'symbol': 'ATOM', 'name': 'Cosmos', 'supply': '248453201.0000000000000000', 'maxSupply': None, 'marketCapUsd': '4428968203.9098417922403014', 'volumeUsd24Hr': '273020434.7604349714729293', 'priceUsd': '17.8261668035818214', 'changePercent24Hr': '0.2773045458138030', 'vwap24Hr': '17.8698229509659488', 'explorer': 'https://www.mintscan.io/'}, {'id': 'stellar', 'rank': '29', 'symbol': 'XLM', 'name': 'Stellar', 'supply': '24785213826.8693960000000000', 'maxSupply': '50001806812.0000000000000000', 'marketCapUsd': '4295267293.4760355988235621', 'volumeUsd24Hr': '70405968.5797245691090738', 'priceUsd': '0.1732995859337546', 'changePercent24Hr': '0.1012993255413467', 'vwap24Hr': '0.1748749780246343', 'explorer': 'https://dashboard.stellar.org/'}, {'id': 'algorand', 'rank': '30', 'symbol': 'ALGO', 'name': 'Algorand', 'supply': '6715303515.9031370000000000', 'maxSupply': '10000000000.0000000000000000', 'marketCapUsd': '4078034073.2210741685038478', 'volumeUsd24Hr': '71458889.2026007541002556', 'priceUsd': '0.6072747216210706', 'changePercent24Hr': '3.1818023428335839', 'vwap24Hr': '0.5945855801178244', 'explorer': 'https://algoexplorer.io/'}, {'id': 'bitcoin-bep2', 'rank': '31', 'symbol': 'BTCB', 'name': 'Bitcoin BEP2', 'supply': '105108.0091129300000000', 'maxSupply': None, 'marketCapUsd': '4051224532.0012580518459778', 'volumeUsd24Hr': '630311673.0658736143689792', 'priceUsd': '38543.4427518130141908', 'changePercent24Hr': '1.9372023267190092', 'vwap24Hr': '38597.1199922065835951', 'explorer': 'https://explorer.binance.org/asset/BTCB-1DE'}, {'id': 'ethereum-classic', 'rank': '32', 'symbol': 'ETC', 'name': 'Ethereum Classic', 'supply': '134449649.8576011400000000', 'maxSupply': '210700000.0000000000000000', 'marketCapUsd': '3681299414.8493459148475018', 'volumeUsd24Hr': '111943774.5319309538873446', 'priceUsd': '27.3805057785445981', 'changePercent24Hr': '1.1804652190990161', 'vwap24Hr': '27.4486144924625551', 'explorer': 'http://gastracker.io/'}, {'id': 'monero', 'rank': '33', 'symbol': 'XMR', 'name': 'Monero', 'supply': '18115651.0103507300000000', 'maxSupply': None, 'marketCapUsd': '3676371584.8485318986570575', 'volumeUsd24Hr': '101095328.4283586441494201', 'priceUsd': '202.9389715416777127', 'changePercent24Hr': '-3.3826577685565950', 'vwap24Hr': '211.7185848489321052', 'explorer': 'http://moneroblocks.info/'}, {'id': 'vechain', 'rank': '34', 'symbol': 'VET', 'name': 'VeChain', 'supply': '64315576989.0000000000000000', 'maxSupply': '86712634466.0000000000000000', 'marketCapUsd': '3036223393.4874482916867783', 'volumeUsd24Hr': '110744520.9219554703827564', 'priceUsd': '0.0472082120013747', 'changePercent24Hr': '0.2456790995720064', 'vwap24Hr': '0.0477979993194583', 'explorer': 'https://explore.veforge.com/'}, {'id': 'filecoin', 'rank': '35', 'symbol': 'FIL', 'name': 'Filecoin', 'supply': '197518001.0000000000000000', 'maxSupply': None, 'marketCapUsd': '2889681759.7369596821287055', 'volumeUsd24Hr': '228133494.5272723986202359', 'priceUsd': '14.6299666111797055', 'changePercent24Hr': '-1.2039819002507978', 'vwap24Hr': '14.9044463751536989', 'explorer': 'https://protocol.ai'}, {'id': 'internet-computer', 'rank': '36', 'symbol': 'ICP', 'name': 'Internet Computer', 'supply': '225624662.0110431000000000', 'maxSupply': None, 'marketCapUsd': '2870851338.2443616317442755', 'volumeUsd24Hr': '61174113.8178827756109379', 'priceUsd': '12.7240139116700331', 'changePercent24Hr': '0.1368134044669874', 'vwap24Hr': '12.8216237944498310', 'explorer': 'https://www.dfinityexplorer.org/#/'}, {'id': 'decentraland', 'rank': '37', 'symbol': 'MANA', 'name': 'Decentraland', 'supply': '1842471768.6069610000000000', 'maxSupply': None, 'marketCapUsd': '2758665718.5666340514186341', 'volumeUsd24Hr': '140874843.0988884670685409', 'priceUsd': '1.4972634943830811', 'changePercent24Hr': '0.7205856501947608', 'vwap24Hr': '1.5071458805734745', 'explorer': 'https://etherscan.io/token/decentraland'}, {'id': 'elrond-egld', 'rank': '38', 'symbol': 'EGLD', 'name': 'Elrond', 'supply': '21878319.8709365200000000', 'maxSupply': '31415926.0000000000000000', 'marketCapUsd': '2737219622.1121234623482020', 'volumeUsd24Hr': '50855779.2595352966312896', 'priceUsd': '125.1110523230024637', 'changePercent24Hr': '0.3540711665211662', 'vwap24Hr': '126.5515953733605346', 'explorer': 'https://explorer.elrond.com/'}, {'id': 'frax', 'rank': '39', 'symbol': 'FRAX', 'name': 'Frax', 'supply': '2636719597.8401165000000000', 'maxSupply': None, 'marketCapUsd': '2632707179.3156101736040915', 'volumeUsd24Hr': '123280.1081156760944100', 'priceUsd': '0.9984782536118770', 'changePercent24Hr': '0.5266364757005050', 'vwap24Hr': '0.9980932872699689', 'explorer': 'https://etherscan.io/token/0x853d955acef822db058eb8505911ed77f175b99e'}, {'id': 'the-sandbox', 'rank': '40', 'symbol': 'SAND', 'name': 'The Sandbox', 'supply': '1159531965.2233226000000000', 'maxSupply': '3000000000.0000000000000000', 'marketCapUsd': '2444703712.1368004213055608', 'volumeUsd24Hr': '218833317.3308439718564054', 'priceUsd': '2.1083538750619586', 'changePercent24Hr': '1.1184547054988100', 'vwap24Hr': '2.1051301984383179', 'explorer': 'https://etherscan.io/token/0x3845badAde8e6dFF049820680d1F14bD3903a5d0'}, {'id': 'theta', 'rank': '41', 'symbol': 'THETA', 'name': 'THETA', 'supply': '1000000000.0000000000000000', 'maxSupply': '1000000000.0000000000000000', 'marketCapUsd': '2317826369.7756730000000000', 'volumeUsd24Hr': '105556597.2570617831675521', 'priceUsd': '2.3178263697756730', 'changePercent24Hr': '1.0069465197685708', 'vwap24Hr': '2.3176681449702536', 'explorer': 'https://explorer.thetatoken.org/'}, {'id': 'pancakeswap', 'rank': '42', 'symbol': 'CAKE', 'name': 'PancakeSwap', 'supply': '296183038.0408257000000000', 'maxSupply': None, 'marketCapUsd': '2276251849.7053819134163973', 'volumeUsd24Hr': '47576815.4943906692981748', 'priceUsd': '7.6852876679306148', 'changePercent24Hr': '2.0820322354017502', 'vwap24Hr': '7.6863790379584438', 'explorer': 'https://bscscan.com/token/0x0e09fabb73bd3ade0a17ecc321fd13a19e81ce82'}, {'id': 'tezos', 'rank': '43', 'symbol': 'XTZ', 'name': 'Tezos', 'supply': '893118554.3436450000000000', 'maxSupply': None, 'marketCapUsd': '2208354901.8650835953801054', 'volumeUsd24Hr': '53638660.8730044250439838', 'priceUsd': '2.4726335502994997', 'changePercent24Hr': '-2.0061686880777019', 'vwap24Hr': '2.5201255566643310', 'explorer': 'https://tzkt.io/'}, {'id': 'defichain', 'rank': '44', 'symbol': 'DFI', 'name': 'DeFiChain', 'supply': '510738160.8525277400000000', 'maxSupply': '1200000000.0000000000000000', 'marketCapUsd': '2196476461.4996833292189487', 'volumeUsd24Hr': '3552431.3995273016137332', 'priceUsd': '4.3005920251451533', 'changePercent24Hr': '1.4864686469825694', 'vwap24Hr': '4.2869764559733004', 'explorer': 'http://explorer.defichain.io/'}, {'id': 'thorchain', 'rank': '45', 'symbol': 'RUNE', 'name': 'THORChain', 'supply': '330688061.3344559700000000', 'maxSupply': '500000000.0000000000000000', 'marketCapUsd': '2055963076.9284179429821638', 'volumeUsd24Hr': '117100746.7623310228305337', 'priceUsd': '6.2172280082679759', 'changePercent24Hr': '-0.0458126529367056', 'vwap24Hr': '6.4110816151805785', 'explorer': 'https://explorer.binance.org/asset/RUNE-B1A'}, {'id': 'hedera-hashgraph', 'rank': '46', 'symbol': 'HBAR', 'name': 'Hedera Hashgraph', 'supply': '14832756028.0000000000000000', 'maxSupply': '50000000000.0000000000000000', 'marketCapUsd': '2055470234.6848033639036796', 'volumeUsd24Hr': '36401233.7478599532344009', 'priceUsd': '0.1385764203769457', 'changePercent24Hr': '-3.4453533181050245', 'vwap24Hr': '0.1417782302634371', 'explorer': 'https://hash-hash.info/'}, {'id': 'eos', 'rank': '47', 'symbol': 'EOS', 'name': 'EOS', 'supply': '988415821.3647000000000000', 'maxSupply': None, 'marketCapUsd': '2055317408.5121058045791684', 'volumeUsd24Hr': '170720014.3166602512141477', 'priceUsd': '2.0794056146069586', 'changePercent24Hr': '0.3560667060713842', 'vwap24Hr': '2.0953821733216084', 'explorer': 'https://bloks.io/'}, {'id': 'aave', 'rank': '48', 'symbol': 'AAVE', 'name': 'Aave', 'supply': '13699991.4739984100000000', 'maxSupply': '16000000.0000000000000000', 'marketCapUsd': '1977269485.3269052184260374', 'volumeUsd24Hr': '96599298.9977519075272457', 'priceUsd': '144.3263296243373047', 'changePercent24Hr': '0.7922929547421418', 'vwap24Hr': '144.4743551937216905', 'explorer': 'https://etherscan.io/token/0x80fB784B7eD66730e8b1DBd9820aFD29931aab03'}, {'id': 'klaytn', 'rank': '49', 'symbol': 'KLAY', 'name': 'Klaytn', 'supply': '2796071926.6000000000000000', 'maxSupply': None, 'marketCapUsd': '1940773295.8840801668294116', 'volumeUsd24Hr': '23562857.3502543330315827', 'priceUsd': '0.6941070712168854', 'changePercent24Hr': '-3.9149690797136274', 'vwap24Hr': '0.7180602521408905', 'explorer': 'https://scope.klaytn.com/blocks'}, {'id': 'fantom', 'rank': '50', 'symbol': 'FTM', 'name': 'Fantom', 'supply': '2545006273.0000000000000000', 'maxSupply': '3175000000.0000000000000000', 'marketCapUsd': '1928166277.7763726829093256', 'volumeUsd24Hr': '541824147.7797897983554805', 'priceUsd': '0.7576273183419272', 'changePercent24Hr': '4.4989361180517917', 'vwap24Hr': '0.7697749765315242', 'explorer': 'https://etherscan.io/token/0x4e15361fd6b4bb609fa63c81a2be19d873717870'}, {'id': 'axie-infinity', 'rank': '51', 'symbol': 'AXS', 'name': 'Axie Infinity', 'supply': '60907500.0000000000000000', 'maxSupply': '270000000.0000000000000000', 'marketCapUsd': '1828790813.0906931701227500', 'volumeUsd24Hr': '110187761.8366739692838686', 'priceUsd': '30.0257080505798657', 'changePercent24Hr': '-2.6803649154624782', 'vwap24Hr': '30.9665726937149621', 'explorer': 'https://etherscan.io/token/0xf5d669627376ebd411e34b98f19c868c8aba5ada'}, {'id': 'kucoin-token', 'rank': '52', 'symbol': 'KCS', 'name': 'KuCoin Token', 'supply': '98379860.9500000000000000', 'maxSupply': '170118638.0000000000000000', 'marketCapUsd': '1774697738.7857045292530957', 'volumeUsd24Hr': '4867097.3214682047971571', 'priceUsd': '18.0392381291092334', 'changePercent24Hr': '2.3063138509036350', 'vwap24Hr': '17.8739561193978491', 'explorer': 'https://etherscan.io/token/0xf34960d9d60be18cc1d5afc1a6f012a723a28811'}, {'id': 'zcash', 'rank': '53', 'symbol': 'ZEC', 'name': 'Zcash', 'supply': '14296225.0000000000000000', 'maxSupply': '21000000.0000000000000000', 'marketCapUsd': '1754414152.7049868534888950', 'volumeUsd24Hr': '129715546.3690089204457338', 'priceUsd': '122.7187004055257142', 'changePercent24Hr': '2.4433330541950321', 'vwap24Hr': '120.9090858466680452', 'explorer': 'https://explorer.zcha.in/'}, {'id': 'flow', 'rank': '54', 'symbol': 'FLOW', 'name': 'Flow', 'supply': '362790700.0000000000000000', 'maxSupply': None, 'marketCapUsd': '1662372654.1191973488770700', 'volumeUsd24Hr': '25210423.9538920697925943', 'priceUsd': '4.5821810044171401', 'changePercent24Hr': '-1.4406600678764889', 'vwap24Hr': '4.6185975714911009', 'explorer': 'https://flowscan.org/'}, {'id': 'helium', 'rank': '55', 'symbol': 'HNT', 'name': 'Helium', 'supply': '116794513.0118446800000000', 'maxSupply': '223000000.0000000000000000', 'marketCapUsd': '1657502714.2018591721853677', 'volumeUsd24Hr': '15584438.9341873053650212', 'priceUsd': '14.1916145841009161', 'changePercent24Hr': '7.7839962467723419', 'vwap24Hr': '13.6794087103728284', 'explorer': 'https://explorer.helium.com/'}, {'id': 'huobi-token', 'rank': '56', 'symbol': 'HT', 'name': 'Huobi Token', 'supply': '155225063.2544120800000000', 'maxSupply': '500000000.0000000000000000', 'marketCapUsd': '1467680864.9201871267461366', 'volumeUsd24Hr': '14861456.1827615608065214', 'priceUsd': '9.4551796865089705', 'changePercent24Hr': '0.4926189023085944', 'vwap24Hr': '9.4470757476244560', 'explorer': 'https://etherscan.io/token/0x6f259637dcd74c767781e37bc6133cd6a68aa161'}, {'id': 'iota', 'rank': '57', 'symbol': 'MIOTA', 'name': 'IOTA', 'supply': '2779530283.0000000000000000', 'maxSupply': '2779530283.0000000000000000', 'marketCapUsd': '1457857928.9401822213002317', 'volumeUsd24Hr': '22493102.6198742458418594', 'priceUsd': '0.5244979476772199', 'changePercent24Hr': '-1.8943120052016439', 'vwap24Hr': '0.5298348880700321', 'explorer': 'https://thetangle.org/'}, {'id': 'the-graph', 'rank': '58', 'symbol': 'GRT', 'name': 'The Graph', 'supply': '4715735200.0000000000000000', 'maxSupply': '10057044431.0000000000000000', 'marketCapUsd': '1450590719.2411971213152000', 'volumeUsd24Hr': '54159688.2437198112822318', 'priceUsd': '0.3076064829172760', 'changePercent24Hr': '-0.0870322005453630', 'vwap24Hr': '0.3089894072990234', 'explorer': 'https://etherscan.io/token/0xc944e90c64b2c07662a292be6244bdf05cda44a7'}, {'id': 'maker', 'rank': '59', 'symbol': 'MKR', 'name': 'Maker', 'supply': '977631.0369508900000000', 'maxSupply': '1005577.0000000000000000', 'marketCapUsd': '1425831901.9316110374030715', 'volumeUsd24Hr': '22850746.8294734742715050', 'priceUsd': '1458.4560514553670150', 'changePercent24Hr': '2.7016225381666125', 'vwap24Hr': '1447.7769817878961640', 'explorer': 'https://etherscan.io/token/Maker'}, {'id': 'bitcoin-sv', 'rank': '60', 'symbol': 'BSV', 'name': 'Bitcoin SV', 'supply': '19048270.3942390500000000', 'maxSupply': '21000000.0000000000000000', 'marketCapUsd': '1399018213.4145687864724519', 'volumeUsd24Hr': '70901619.1572306991706016', 'priceUsd': '73.4459446689546785', 'changePercent24Hr': '-0.1097341628796733', 'vwap24Hr': '74.3892396039078500', 'explorer': 'https://bsvexplorer.io/'}, {'id': 'ecash', 'rank': '61', 'symbol': 'XEC', 'name': 'eCash', 'supply': '19048448423313.0000000000000000', 'maxSupply': '21000000000000.0000000000000000', 'marketCapUsd': '1377159128.8688742207823251', 'volumeUsd24Hr': '5301132.9990626563344913', 'priceUsd': '0.0000722977062627', 'changePercent24Hr': '0.0529064304037751', 'vwap24Hr': '0.0000729133282039', 'explorer': 'https://explorer.bitcoinabc.org/'}, {'id': 'trueusd', 'rank': '62', 'symbol': 'TUSD', 'name': 'TrueUSD', 'supply': '1374275864.0519476000000000', 'maxSupply': None, 'marketCapUsd': '1375303753.2594665952769359', 'volumeUsd24Hr': '39464181.6860814837927048', 'priceUsd': '1.0007479496907472', 'changePercent24Hr': '-0.2592106392853536', 'vwap24Hr': '1.0023166417031740', 'explorer': 'https://etherscan.io/token/0x8dd5fbce2f6a956c3022ba3663759011dd51e73e'}, {'id': 'convex-finance', 'rank': '63', 'symbol': 'CVX', 'name': 'Convex Finance', 'supply': '60270736.2456461800000000', 'maxSupply': '100000000.0000000000000000', 'marketCapUsd': '1344002586.9004741724743548', 'volumeUsd24Hr': '3471487.4317198617367149', 'priceUsd': '22.2994220847528114', 'changePercent24Hr': '-0.7039346112622815', 'vwap24Hr': '22.6003150565850422', 'explorer': 'https://etherscan.io/token/0x4e3fbd56cd56c3e72c1403e103b45db9da5b9d2b'}, {'id': 'waves', 'rank': '64', 'symbol': 'WAVES', 'name': 'Waves', 'supply': '108158452.0000000000000000', 'maxSupply': None, 'marketCapUsd': '1338241921.9675666867017296', 'volumeUsd24Hr': '102706427.6033033034009113', 'priceUsd': '12.3729759184013348', 'changePercent24Hr': '-3.9867684127275810', 'vwap24Hr': '12.8682717131581694', 'explorer': 'http://wavesexplorer.com/'}, {'id': 'trustnote', 'rank': '65', 'symbol': 'TTT', 'name': 'TrustNote', 'supply': '309999945.0035280000000000', 'maxSupply': None, 'marketCapUsd': '1244073738.3683940951958164', 'volumeUsd24Hr': '338940.7457583725674244', 'priceUsd': '4.0131418034743062', 'changePercent24Hr': '1.9591915528534468', 'vwap24Hr': '4.0027615257384008', 'explorer': 'https://explorer.trustnote.org/'}, {'id': 'neo', 'rank': '66', 'symbol': 'NEO', 'name': 'Neo', 'supply': '70538831.0000000000000000', 'maxSupply': '100000000.0000000000000000', 'marketCapUsd': '1225680784.7149410821784057', 'volumeUsd24Hr': '30332088.3064711614805515', 'priceUsd': '17.3759724585589047', 'changePercent24Hr': '-0.1051449748852400', 'vwap24Hr': '17.5861339135509029', 'explorer': 'https://neotracker.io'}, {'id': 'stacks', 'rank': '67', 'symbol': 'STX', 'name': 'Stacks', 'supply': '1310810005.4640350000000000', 'maxSupply': '1818000000.0000000000000000', 'marketCapUsd': '1222443076.3225389673729740', 'volumeUsd24Hr': '6381465.5667481952390405', 'priceUsd': '0.9325860126386405', 'changePercent24Hr': '0.1583087271576513', 'vwap24Hr': '0.9636373548381032', 'explorer': 'https://explorer.xinfin.network/'}, {'id': 'nexo', 'rank': '68', 'symbol': 'NEXO', 'name': 'Nexo', 'supply': '560000011.0000000000000000', 'maxSupply': '1000000000.0000000000000000', 'marketCapUsd': '1215731500.2268803059479402', 'volumeUsd24Hr': '8323634.0415580958211257', 'priceUsd': '2.1709490649043582', 'changePercent24Hr': '-4.2067784618639978', 'vwap24Hr': '2.2475501146916140', 'explorer': 'https://etherscan.io/token/0xb62132e35a6c13ee1ee0f84dc5d40bad8d815206'}, {'id': 'quant', 'rank': '69', 'symbol': 'QNT', 'name': 'Quant', 'supply': '12072738.0000000000000000', 'maxSupply': '14612493.0000000000000000', 'marketCapUsd': '1161218755.5288916742292390', 'volumeUsd24Hr': '14578961.9281313559969570', 'priceUsd': '96.1852030193061155', 'changePercent24Hr': '0.9121812304494980', 'vwap24Hr': '97.5489480806947359', 'explorer': 'https://etherscan.io/token/0x4a220e6096b25eadb88358cb44068a3248254675'}, {'id': 'okb', 'rank': '70', 'symbol': 'OKB', 'name': 'OKB', 'supply': '60000000.0000000000000000', 'maxSupply': None, 'marketCapUsd': '1128947782.1740002600000000', 'volumeUsd24Hr': '1120088.4498475852078681', 'priceUsd': '18.8157963695666710', 'changePercent24Hr': '4.7260670188845882', 'vwap24Hr': '18.7606793548452893', 'explorer': 'https://etherscan.io/token/0x75231f58b43240c9718dd58b4967c5114342a86c'}, {'id': 'kusama', 'rank': '71', 'symbol': 'KSM', 'name': 'Kusama', 'supply': '8470098.0572620600000000', 'maxSupply': None, 'marketCapUsd': '1105754491.8586786861869147', 'volumeUsd24Hr': '32335642.6532097617769769', 'priceUsd': '130.5480154283020567', 'changePercent24Hr': '-0.3885435821910869', 'vwap24Hr': '131.8069252520951437', 'explorer': 'https://kusama.subscan.io/'}, {'id': 'celo', 'rank': '72', 'symbol': 'CELO', 'name': 'Celo', 'supply': '439191694.0000000000000000', 'maxSupply': '1000000000.0000000000000000', 'marketCapUsd': '1067016978.6816450185694560', 'volumeUsd24Hr': '21263946.0707245904894489', 'priceUsd': '2.4295017261452240', 'changePercent24Hr': '1.9817745523754368', 'vwap24Hr': '2.4448819392261576', 'explorer': 'https://explorer.celo.org/blocks'}, {'id': 'chiliz', 'rank': '73', 'symbol': 'CHZ', 'name': 'Chiliz', 'supply': '6000378906.9326850000000000', 'maxSupply': '8888888888.0000000000000000', 'marketCapUsd': '1064095712.9145023350484580', 'volumeUsd24Hr': '46326006.3192860320875129', 'priceUsd': '0.1773380863806906', 'changePercent24Hr': '-0.7531563855462918', 'vwap24Hr': '0.1800109545291004', 'explorer': 'https://etherscan.io/token/0x3506424f91fd33084466f402d5d97f05f8e3b4af'}, {'id': 'loopring', 'rank': '74', 'symbol': 'LRC', 'name': 'Loopring', 'supply': '1329788610.7641735000000000', 'maxSupply': '1374513896.0000000000000000', 'marketCapUsd': '967068693.2034784120299944', 'volumeUsd24Hr': '58264898.9625377645633066', 'priceUsd': '0.7272349043866038', 'changePercent24Hr': '-0.0224612260261729', 'vwap24Hr': '0.7339942696284641', 'explorer': 'https://etherscan.io/token/0xEF68e7C694F40c8202821eDF525dE3782458639f'}, {'id': 'harmony', 'rank': '75', 'symbol': 'ONE', 'name': 'Harmony', 'supply': '12049218683.1006720000000000', 'maxSupply': None, 'marketCapUsd': '962031693.4334792652543867', 'volumeUsd24Hr': '66770786.4887238184999886', 'priceUsd': '0.0798418319673086', 'changePercent24Hr': '-0.8212542535838386', 'vwap24Hr': '0.0820381324564453', 'explorer': 'https://explorer.harmony.one'}, {'id': 'paxos-standard', 'rank': '76', 'symbol': 'USDP', 'name': 'Pax Dollar', 'supply': '945642940.1100000000000000', 'maxSupply': None, 'marketCapUsd': '946611174.2127609057197723', 'volumeUsd24Hr': '3185750.2490628572172109', 'priceUsd': '1.0010238897386029', 'changePercent24Hr': '-0.2316066685091614', 'vwap24Hr': None, 'explorer': 'https://etherscan.io/token/0x8e870d67f660d95d5be530380d0ec0bd388289e1'}, {'id': 'dash', 'rank': '77', 'symbol': 'DASH', 'name': 'Dash', 'supply': '10705746.6720470700000000', 'maxSupply': '18900000.0000000000000000', 'marketCapUsd': '946404429.3200754478393725', 'volumeUsd24Hr': '79516759.5052495982046901', 'priceUsd': '88.4015340836671712', 'changePercent24Hr': '-0.7018343152358492', 'vwap24Hr': '89.3108171222845087', 'explorer': 'https://explorer.dash.org'}, {'id': 'curve-dao-token', 'rank': '78', 'symbol': 'CRV', 'name': 'Curve DAO Token', 'supply': '461820743.6751550000000000', 'maxSupply': '3303030299.0000000000000000', 'marketCapUsd': '944416258.6897529333446731', 'volumeUsd24Hr': '44241892.2361037864114772', 'priceUsd': '2.0449844915456113', 'changePercent24Hr': '1.8076587258868202', 'vwap24Hr': '2.0618647447084730', 'explorer': 'https://etherscan.io/token/0xD533a949740bb3306d119CC777fa900bA034cd52'}, {'id': 'gala', 'rank': '79', 'symbol': 'GALA', 'name': 'Gala', 'supply': '6977205436.0000000000000000', 'maxSupply': None, 'marketCapUsd': '941223850.4636097059170720', 'volumeUsd24Hr': '157259867.9028519897653671', 'priceUsd': '0.1348998333354520', 'changePercent24Hr': '-3.3782051301501044', 'vwap24Hr': '0.1395282863719744', 'explorer': 'https://ethplorer.io/es/address/0x15d4c048f83bd7e37d49ea4c83a07267ec4203da#chart=candlestick'}, {'id': 'enjin-coin', 'rank': '80', 'symbol': 'ENJ', 'name': 'Enjin Coin', 'supply': '883791705.5675580000000000', 'maxSupply': '1000000000.0000000000000000', 'marketCapUsd': '929449414.0431034525376001', 'volumeUsd24Hr': '47710331.5572634265137524', 'priceUsd': '1.0516611642629354', 'changePercent24Hr': '-1.3653528312911776', 'vwap24Hr': '1.0730376397933081', 'explorer': 'https://etherscan.io/token/0xf629cbd94d3791c9250152bd8dfbdf380e2a3b9c'}, {'id': 'neutrino-usd', 'rank': '81', 'symbol': 'USDN', 'name': 'Neutrino USD', 'supply': '954438997.8540600000000000', 'maxSupply': None, 'marketCapUsd': '927966704.4476361639756702', 'volumeUsd24Hr': '548334.9066619718278958', 'priceUsd': '0.9722640279096479', 'changePercent24Hr': '0.1225676472390862', 'vwap24Hr': '0.9719889238031497', 'explorer': 'https://wavesexplorer.com/'}, {'id': 'mina', 'rank': '82', 'symbol': 'MINA', 'name': 'Mina', 'supply': '484405460.8400392500000000', 'maxSupply': None, 'marketCapUsd': '889912914.7233007685313424', 'volumeUsd24Hr': '32767311.1972567036676460', 'priceUsd': '1.8371240348530433', 'changePercent24Hr': '5.9088590182708817', 'vwap24Hr': '1.7981969312593730', 'explorer': 'https://minaexplorer.com/'}, {'id': 'zilliqa', 'rank': '83', 'symbol': 'ZIL', 'name': 'Zilliqa', 'supply': '12728753451.3872360000000000', 'maxSupply': '21000000000.0000000000000000', 'marketCapUsd': '882623685.8002554450978302', 'volumeUsd24Hr': '159114239.3342886476135593', 'priceUsd': '0.0693409365788339', 'changePercent24Hr': '-0.5220891954549840', 'vwap24Hr': '0.0714932617460967', 'explorer': 'https://etherscan.io/token/0x05f4a42e251f2d52b8ed15e9fedaacfcef1fad27'}, {'id': 'basic-attention-token', 'rank': '84', 'symbol': 'BAT', 'name': 'Basic Attention Token', 'supply': '1498032245.8773506000000000', 'maxSupply': '1500000000.0000000000000000', 'marketCapUsd': '869386673.7699755655107276', 'volumeUsd24Hr': '25006192.6513305909142836', 'priceUsd': '0.5803524431216786', 'changePercent24Hr': '-2.3570783175313573', 'vwap24Hr': '0.5905784813893971', 'explorer': 'https://etherscan.io/token/Bat'}, {'id': 'lido-dao', 'rank': '85', 'symbol': 'LDO', 'name': 'Lido DAO', 'supply': '312951153.9586575600000000', 'maxSupply': '1000000000.0000000000000000', 'marketCapUsd': '868578834.5809121095133772', 'volumeUsd24Hr': '4258346.9069132197608060', 'priceUsd': '2.7754453805134580', 'changePercent24Hr': '-4.6060243378255621', 'vwap24Hr': '2.8464354688654374', 'explorer': 'https://etherscan.io/token/0x5a98fcbea516cf06857215779fd812ca3bef1b32'}, {'id': 'nem', 'rank': '86', 'symbol': 'XEM', 'name': 'NEM', 'supply': '8999999999.0000000000000000', 'maxSupply': '8999999999.0000000000000000', 'marketCapUsd': '834253117.1705716091929704', 'volumeUsd24Hr': '14080493.5047044424757125', 'priceUsd': '0.0926947908070296', 'changePercent24Hr': '4.3036671949224562', 'vwap24Hr': '0.0904088080950859', 'explorer': 'http://nembex.nem.ninja/'}, {'id': 'kyber-network', 'rank': '87', 'symbol': 'KNC', 'name': 'Kyber Network', 'supply': '205045092.1153011300000000', 'maxSupply': '226000000.0000000000000000', 'marketCapUsd': '829966508.1057168563673768', 'volumeUsd24Hr': '82557177.0464394033164506', 'priceUsd': '4.0477267685051900', 'changePercent24Hr': '-9.3395020305952106', 'vwap24Hr': '4.3419160992422228', 'explorer': 'https://etherscan.io/token/KyberNetwork'}, {'id': 'arweave', 'rank': '88', 'symbol': 'AR', 'name': 'Arweave', 'supply': '33394701.0000000000000000', 'maxSupply': '66000000.0000000000000000', 'marketCapUsd': '812367068.1357134813075052', 'volumeUsd24Hr': '16558287.7896646761488687', 'priceUsd': '24.3262267308730652', 'changePercent24Hr': '-0.5831780053391469', 'vwap24Hr': '24.3184716304076666', 'explorer': 'https://viewblock.io/arweave'}, {'id': 'ultiledger', 'rank': '89', 'symbol': 'ULT', 'name': 'Ultiledger', 'supply': '2836429508.7869000000000000', 'maxSupply': None, 'marketCapUsd': '797422724.3632270417351729', 'volumeUsd24Hr': '126723.0870956242903721', 'priceUsd': '0.2811360980038151', 'changePercent24Hr': '0.0391985589812445', 'vwap24Hr': '0.2819086705535438', 'explorer': 'https://etherscan.io/token/0xe884cc2795b9c45beeac0607da9539fd571ccf85'}, {'id': 'amp', 'rank': '90', 'symbol': 'AMP', 'name': 'Amp', 'supply': '42227702186.0000000000000000', 'maxSupply': '92547638199.0000000000000000', 'marketCapUsd': '790255559.7440084915603338', 'volumeUsd24Hr': '2795372.2621295260505699', 'priceUsd': '0.0187141501629233', 'changePercent24Hr': '-2.6157399679328791', 'vwap24Hr': '0.0190566864523118', 'explorer': None}, {'id': 'decred', 'rank': '91', 'symbol': 'DCR', 'name': 'Decred', 'supply': '13984466.0416191000000000', 'maxSupply': '21000000.0000000000000000', 'marketCapUsd': '780488115.8985264468281842', 'volumeUsd24Hr': '1414950.0639080815246177', 'priceUsd': '55.8110773465157438', 'changePercent24Hr': '-2.5739633011076912', 'vwap24Hr': '57.1187909868675374', 'explorer': 'https://mainnet.decred.org/'}, {'id': 'xinfin-network', 'rank': '92', 'symbol': 'XDC', 'name': 'XinFin Network', 'supply': '12293293518.5500000000000000', 'maxSupply': None, 'marketCapUsd': '755630789.8403288490275772', 'volumeUsd24Hr': '3094734.9576773736812858', 'priceUsd': '0.0614669119142171', 'changePercent24Hr': '0.1953175231904620', 'vwap24Hr': '0.0616768815360665', 'explorer': 'https://etherscan.io/token/0x41ab1b6fcbb2fa9dced81acbdec13ea6315f2bf2'}, {'id': 'kava', 'rank': '93', 'symbol': 'KAVA', 'name': 'Kava', 'supply': '182777245.0000000000000000', 'maxSupply': None, 'marketCapUsd': '745452180.2244265578017965', 'volumeUsd24Hr': '66455788.1758132852585376', 'priceUsd': '4.0784736646207057', 'changePercent24Hr': '-4.2194344888114971', 'vwap24Hr': '4.1751756316129692', 'explorer': 'https://www.mintscan.io/kava'}, {'id': 'theta-fuel', 'rank': '94', 'symbol': 'TFUEL', 'name': 'Theta Fuel', 'supply': '5301214400.0000000000000000', 'maxSupply': None, 'marketCapUsd': '697440045.2853152833590400', 'volumeUsd24Hr': '37987252.0972722133365208', 'priceUsd': '0.1315623162280166', 'changePercent24Hr': '-1.0847804287764838', 'vwap24Hr': '0.1331593831921059', 'explorer': 'https://explorer.thetatoken.org/'}, {'id': 'compound', 'rank': '95', 'symbol': 'COMP', 'name': 'Compound', 'supply': '6728226.7029591300000000', 'maxSupply': '10000000.0000000000000000', 'marketCapUsd': '696182228.1368537712105293', 'volumeUsd24Hr': '23649235.7683427934441676', 'priceUsd': '103.4718743693144352', 'changePercent24Hr': '-0.4307617784769928', 'vwap24Hr': '105.1405956101511562', 'explorer': 'https://etherscan.io/token/0xc00e94cb662c3520282e6f5717214004a7f26888'}, {'id': 'holo', 'rank': '96', 'symbol': 'HOT', 'name': 'Holo', 'supply': '173305412321.0723600000000000', 'maxSupply': None, 'marketCapUsd': '693900869.3744482598083701', 'volumeUsd24Hr': '11455653.2105006470138042', 'priceUsd': '0.0040039192087602', 'changePercent24Hr': '-0.8667813939622239', 'vwap24Hr': '0.0040390623323296', 'explorer': 'https://etherscan.io/token/0x6c6ee5e31d828de241282b9606c8e98ea48526e2'}, {'id': 'kadena', 'rank': '97', 'symbol': 'KDA', 'name': 'Kadena', 'supply': '171287601.1158600000000000', 'maxSupply': '1000000000.0000000000000000', 'marketCapUsd': '640678260.0447834513666781', 'volumeUsd24Hr': '8914817.8795431136803970', 'priceUsd': '3.7403656532700501', 'changePercent24Hr': '-2.5222448950162352', 'vwap24Hr': '3.8615384497426513', 'explorer': 'https://explorer.chainweb.com/mainnet'}, {'id': 'yearn-finance', 'rank': '98', 'symbol': 'YFI', 'name': 'yearn.finance', 'supply': '36637.7212258800000000', 'maxSupply': '36666.0000000000000000', 'marketCapUsd': '625241977.2689386318278703', 'volumeUsd24Hr': '16612595.4777460683175032', 'priceUsd': '17065.5258118859975335', 'changePercent24Hr': '-0.1272215129728624', 'vwap24Hr': '17038.4108935990482165', 'explorer': 'https://etherscan.io/token/0x0bc529c00c6401aef6d220be8c6ea1667f6ad93e'}, {'id': 'pax-gold', 'rank': '99', 'symbol': 'PAXG', 'name': 'PAX Gold', 'supply': '326440.6110000000000000', 'maxSupply': None, 'marketCapUsd': '610939583.7634432448768974', 'volumeUsd24Hr': '13395542.9838044759420574', 'priceUsd': '1871.5183196475613902', 'changePercent24Hr': '-1.8697994689901542', 'vwap24Hr': '1884.3487269107053758', 'explorer': 'https://etherscan.io/token/0x45804880de22913dafe09f4980848ece6ecbaf78'}, {'id': 'gnosis-gno', 'rank': '100', 'symbol': 'GNO', 'name': 'Gnosis', 'supply': '1930733.0000000000000000', 'maxSupply': '10000000.0000000000000000', 'marketCapUsd': '609581236.5445980807213829', 'volumeUsd24Hr': '1512454.2275594433202314', 'priceUsd': '315.7252901072277113', 'changePercent24Hr': '2.1824821023261200', 'vwap24Hr': '315.1431988289583514', 'explorer': 'https://etherscan.io/token/Gnosis'}], 'timestamp': 1651521638105}\n"
          ]
        }
      ]
    },
    {
      "cell_type": "code",
      "source": [
        "ourdata=[]\n",
        "for x in my_json['data']:\n",
        "  listing=[x['symbol'],x['name'],x['priceUsd']]\n",
        "  ourdata.append(listing)\n",
        "print(ourdata)\n"
      ],
      "metadata": {
        "colab": {
          "base_uri": "https://localhost:8080/"
        },
        "id": "6R2t95M0SHX2",
        "outputId": "c8e7ab43-76b4-41b4-ce69-2be952a375bb"
      },
      "execution_count": 6,
      "outputs": [
        {
          "output_type": "stream",
          "name": "stdout",
          "text": [
            "[['BTC', 'Bitcoin', '38548.4336671874172821'], ['ETH', 'Ethereum', '2842.1861157064663597'], ['USDT', 'Tether', '1.0004761828655906'], ['BNB', 'BNB', '387.7889070470550485'], ['USDC', 'USD Coin', '1.0005438793058717'], ['SOL', 'Solana', '87.2578436834085253'], ['LUNA', 'Terra', '82.5421919400246391'], ['XRP', 'XRP', '0.6082627978277668'], ['ADA', 'Cardano', '0.7780065543550725'], ['UST', 'TerraUSD', '0.9912861086314038'], ['BUSD', 'Binance USD', '1.0012756444883436'], ['DOGE', 'Dogecoin', '0.1308499682891524'], ['DOT', 'Polkadot', '14.9125689295890764'], ['AVAX', 'Avalanche', '59.7666569928864457'], ['SHIB', 'Shiba Inu', '0.0000205880359913'], ['WBTC', 'Wrapped Bitcoin', '38760.5914101473907602'], ['DAI', 'Multi Collateral DAI', '1.0001217697678766'], ['MATIC', 'Polygon', '1.0693197969077823'], ['NEAR', 'NEAR Protocol', '11.7058297189513782'], ['LTC', 'Litecoin', '100.6414363615658065'], ['CRO', 'Crypto.com Coin', '0.2748614652155386'], ['TRX', 'TRON', '0.0669162238085766'], ['LEO', 'UNUS SED LEO', '5.6771964989551902'], ['BCH', 'Bitcoin Cash', '284.2467225867162915'], ['FTT', 'FTX Token', '39.5136423366796355'], ['LINK', 'Chainlink', '11.0863202687081362'], ['UNI', 'Uniswap', '6.8275156553541827'], ['ATOM', 'Cosmos', '17.8261668035818214'], ['XLM', 'Stellar', '0.1732995859337546'], ['ALGO', 'Algorand', '0.6072747216210706'], ['BTCB', 'Bitcoin BEP2', '38543.4427518130141908'], ['ETC', 'Ethereum Classic', '27.3805057785445981'], ['XMR', 'Monero', '202.9389715416777127'], ['VET', 'VeChain', '0.0472082120013747'], ['FIL', 'Filecoin', '14.6299666111797055'], ['ICP', 'Internet Computer', '12.7240139116700331'], ['MANA', 'Decentraland', '1.4972634943830811'], ['EGLD', 'Elrond', '125.1110523230024637'], ['FRAX', 'Frax', '0.9984782536118770'], ['SAND', 'The Sandbox', '2.1083538750619586'], ['THETA', 'THETA', '2.3178263697756730'], ['CAKE', 'PancakeSwap', '7.6852876679306148'], ['XTZ', 'Tezos', '2.4726335502994997'], ['DFI', 'DeFiChain', '4.3005920251451533'], ['RUNE', 'THORChain', '6.2172280082679759'], ['HBAR', 'Hedera Hashgraph', '0.1385764203769457'], ['EOS', 'EOS', '2.0794056146069586'], ['AAVE', 'Aave', '144.3263296243373047'], ['KLAY', 'Klaytn', '0.6941070712168854'], ['FTM', 'Fantom', '0.7576273183419272'], ['AXS', 'Axie Infinity', '30.0257080505798657'], ['KCS', 'KuCoin Token', '18.0392381291092334'], ['ZEC', 'Zcash', '122.7187004055257142'], ['FLOW', 'Flow', '4.5821810044171401'], ['HNT', 'Helium', '14.1916145841009161'], ['HT', 'Huobi Token', '9.4551796865089705'], ['MIOTA', 'IOTA', '0.5244979476772199'], ['GRT', 'The Graph', '0.3076064829172760'], ['MKR', 'Maker', '1458.4560514553670150'], ['BSV', 'Bitcoin SV', '73.4459446689546785'], ['XEC', 'eCash', '0.0000722977062627'], ['TUSD', 'TrueUSD', '1.0007479496907472'], ['CVX', 'Convex Finance', '22.2994220847528114'], ['WAVES', 'Waves', '12.3729759184013348'], ['TTT', 'TrustNote', '4.0131418034743062'], ['NEO', 'Neo', '17.3759724585589047'], ['STX', 'Stacks', '0.9325860126386405'], ['NEXO', 'Nexo', '2.1709490649043582'], ['QNT', 'Quant', '96.1852030193061155'], ['OKB', 'OKB', '18.8157963695666710'], ['KSM', 'Kusama', '130.5480154283020567'], ['CELO', 'Celo', '2.4295017261452240'], ['CHZ', 'Chiliz', '0.1773380863806906'], ['LRC', 'Loopring', '0.7272349043866038'], ['ONE', 'Harmony', '0.0798418319673086'], ['USDP', 'Pax Dollar', '1.0010238897386029'], ['DASH', 'Dash', '88.4015340836671712'], ['CRV', 'Curve DAO Token', '2.0449844915456113'], ['GALA', 'Gala', '0.1348998333354520'], ['ENJ', 'Enjin Coin', '1.0516611642629354'], ['USDN', 'Neutrino USD', '0.9722640279096479'], ['MINA', 'Mina', '1.8371240348530433'], ['ZIL', 'Zilliqa', '0.0693409365788339'], ['BAT', 'Basic Attention Token', '0.5803524431216786'], ['LDO', 'Lido DAO', '2.7754453805134580'], ['XEM', 'NEM', '0.0926947908070296'], ['KNC', 'Kyber Network', '4.0477267685051900'], ['AR', 'Arweave', '24.3262267308730652'], ['ULT', 'Ultiledger', '0.2811360980038151'], ['AMP', 'Amp', '0.0187141501629233'], ['DCR', 'Decred', '55.8110773465157438'], ['XDC', 'XinFin Network', '0.0614669119142171'], ['KAVA', 'Kava', '4.0784736646207057'], ['TFUEL', 'Theta Fuel', '0.1315623162280166'], ['COMP', 'Compound', '103.4718743693144352'], ['HOT', 'Holo', '0.0040039192087602'], ['KDA', 'Kadena', '3.7403656532700501'], ['YFI', 'yearn.finance', '17065.5258118859975335'], ['PAXG', 'PAX Gold', '1871.5183196475613902'], ['GNO', 'Gnosis', '315.7252901072277113']]\n"
          ]
        }
      ]
    },
    {
      "cell_type": "code",
      "source": [
        "df=pd.DataFrame(ourdata,columns=[\"symbol\",\"name\",\"priceUsd\"])"
      ],
      "metadata": {
        "id": "D_E2d3CXTB6o"
      },
      "execution_count": 7,
      "outputs": []
    },
    {
      "cell_type": "code",
      "source": [
        "df"
      ],
      "metadata": {
        "colab": {
          "base_uri": "https://localhost:8080/",
          "height": 423
        },
        "id": "r1poGzjrX0yG",
        "outputId": "b7743b9e-16c7-4682-e45b-0aa5e4425665"
      },
      "execution_count": 8,
      "outputs": [
        {
          "output_type": "execute_result",
          "data": {
            "text/plain": [
              "   symbol           name                priceUsd\n",
              "0     BTC        Bitcoin  38548.4336671874172821\n",
              "1     ETH       Ethereum   2842.1861157064663597\n",
              "2    USDT         Tether      1.0004761828655906\n",
              "3     BNB            BNB    387.7889070470550485\n",
              "4    USDC       USD Coin      1.0005438793058717\n",
              "..    ...            ...                     ...\n",
              "95    HOT           Holo      0.0040039192087602\n",
              "96    KDA         Kadena      3.7403656532700501\n",
              "97    YFI  yearn.finance  17065.5258118859975335\n",
              "98   PAXG       PAX Gold   1871.5183196475613902\n",
              "99    GNO         Gnosis    315.7252901072277113\n",
              "\n",
              "[100 rows x 3 columns]"
            ],
            "text/html": [
              "\n",
              "  <div id=\"df-1520e4c5-4ffd-4306-91f9-1c61986072e2\">\n",
              "    <div class=\"colab-df-container\">\n",
              "      <div>\n",
              "<style scoped>\n",
              "    .dataframe tbody tr th:only-of-type {\n",
              "        vertical-align: middle;\n",
              "    }\n",
              "\n",
              "    .dataframe tbody tr th {\n",
              "        vertical-align: top;\n",
              "    }\n",
              "\n",
              "    .dataframe thead th {\n",
              "        text-align: right;\n",
              "    }\n",
              "</style>\n",
              "<table border=\"1\" class=\"dataframe\">\n",
              "  <thead>\n",
              "    <tr style=\"text-align: right;\">\n",
              "      <th></th>\n",
              "      <th>symbol</th>\n",
              "      <th>name</th>\n",
              "      <th>priceUsd</th>\n",
              "    </tr>\n",
              "  </thead>\n",
              "  <tbody>\n",
              "    <tr>\n",
              "      <th>0</th>\n",
              "      <td>BTC</td>\n",
              "      <td>Bitcoin</td>\n",
              "      <td>38548.4336671874172821</td>\n",
              "    </tr>\n",
              "    <tr>\n",
              "      <th>1</th>\n",
              "      <td>ETH</td>\n",
              "      <td>Ethereum</td>\n",
              "      <td>2842.1861157064663597</td>\n",
              "    </tr>\n",
              "    <tr>\n",
              "      <th>2</th>\n",
              "      <td>USDT</td>\n",
              "      <td>Tether</td>\n",
              "      <td>1.0004761828655906</td>\n",
              "    </tr>\n",
              "    <tr>\n",
              "      <th>3</th>\n",
              "      <td>BNB</td>\n",
              "      <td>BNB</td>\n",
              "      <td>387.7889070470550485</td>\n",
              "    </tr>\n",
              "    <tr>\n",
              "      <th>4</th>\n",
              "      <td>USDC</td>\n",
              "      <td>USD Coin</td>\n",
              "      <td>1.0005438793058717</td>\n",
              "    </tr>\n",
              "    <tr>\n",
              "      <th>...</th>\n",
              "      <td>...</td>\n",
              "      <td>...</td>\n",
              "      <td>...</td>\n",
              "    </tr>\n",
              "    <tr>\n",
              "      <th>95</th>\n",
              "      <td>HOT</td>\n",
              "      <td>Holo</td>\n",
              "      <td>0.0040039192087602</td>\n",
              "    </tr>\n",
              "    <tr>\n",
              "      <th>96</th>\n",
              "      <td>KDA</td>\n",
              "      <td>Kadena</td>\n",
              "      <td>3.7403656532700501</td>\n",
              "    </tr>\n",
              "    <tr>\n",
              "      <th>97</th>\n",
              "      <td>YFI</td>\n",
              "      <td>yearn.finance</td>\n",
              "      <td>17065.5258118859975335</td>\n",
              "    </tr>\n",
              "    <tr>\n",
              "      <th>98</th>\n",
              "      <td>PAXG</td>\n",
              "      <td>PAX Gold</td>\n",
              "      <td>1871.5183196475613902</td>\n",
              "    </tr>\n",
              "    <tr>\n",
              "      <th>99</th>\n",
              "      <td>GNO</td>\n",
              "      <td>Gnosis</td>\n",
              "      <td>315.7252901072277113</td>\n",
              "    </tr>\n",
              "  </tbody>\n",
              "</table>\n",
              "<p>100 rows × 3 columns</p>\n",
              "</div>\n",
              "      <button class=\"colab-df-convert\" onclick=\"convertToInteractive('df-1520e4c5-4ffd-4306-91f9-1c61986072e2')\"\n",
              "              title=\"Convert this dataframe to an interactive table.\"\n",
              "              style=\"display:none;\">\n",
              "        \n",
              "  <svg xmlns=\"http://www.w3.org/2000/svg\" height=\"24px\"viewBox=\"0 0 24 24\"\n",
              "       width=\"24px\">\n",
              "    <path d=\"M0 0h24v24H0V0z\" fill=\"none\"/>\n",
              "    <path d=\"M18.56 5.44l.94 2.06.94-2.06 2.06-.94-2.06-.94-.94-2.06-.94 2.06-2.06.94zm-11 1L8.5 8.5l.94-2.06 2.06-.94-2.06-.94L8.5 2.5l-.94 2.06-2.06.94zm10 10l.94 2.06.94-2.06 2.06-.94-2.06-.94-.94-2.06-.94 2.06-2.06.94z\"/><path d=\"M17.41 7.96l-1.37-1.37c-.4-.4-.92-.59-1.43-.59-.52 0-1.04.2-1.43.59L10.3 9.45l-7.72 7.72c-.78.78-.78 2.05 0 2.83L4 21.41c.39.39.9.59 1.41.59.51 0 1.02-.2 1.41-.59l7.78-7.78 2.81-2.81c.8-.78.8-2.07 0-2.86zM5.41 20L4 18.59l7.72-7.72 1.47 1.35L5.41 20z\"/>\n",
              "  </svg>\n",
              "      </button>\n",
              "      \n",
              "  <style>\n",
              "    .colab-df-container {\n",
              "      display:flex;\n",
              "      flex-wrap:wrap;\n",
              "      gap: 12px;\n",
              "    }\n",
              "\n",
              "    .colab-df-convert {\n",
              "      background-color: #E8F0FE;\n",
              "      border: none;\n",
              "      border-radius: 50%;\n",
              "      cursor: pointer;\n",
              "      display: none;\n",
              "      fill: #1967D2;\n",
              "      height: 32px;\n",
              "      padding: 0 0 0 0;\n",
              "      width: 32px;\n",
              "    }\n",
              "\n",
              "    .colab-df-convert:hover {\n",
              "      background-color: #E2EBFA;\n",
              "      box-shadow: 0px 1px 2px rgba(60, 64, 67, 0.3), 0px 1px 3px 1px rgba(60, 64, 67, 0.15);\n",
              "      fill: #174EA6;\n",
              "    }\n",
              "\n",
              "    [theme=dark] .colab-df-convert {\n",
              "      background-color: #3B4455;\n",
              "      fill: #D2E3FC;\n",
              "    }\n",
              "\n",
              "    [theme=dark] .colab-df-convert:hover {\n",
              "      background-color: #434B5C;\n",
              "      box-shadow: 0px 1px 3px 1px rgba(0, 0, 0, 0.15);\n",
              "      filter: drop-shadow(0px 1px 2px rgba(0, 0, 0, 0.3));\n",
              "      fill: #FFFFFF;\n",
              "    }\n",
              "  </style>\n",
              "\n",
              "      <script>\n",
              "        const buttonEl =\n",
              "          document.querySelector('#df-1520e4c5-4ffd-4306-91f9-1c61986072e2 button.colab-df-convert');\n",
              "        buttonEl.style.display =\n",
              "          google.colab.kernel.accessAllowed ? 'block' : 'none';\n",
              "\n",
              "        async function convertToInteractive(key) {\n",
              "          const element = document.querySelector('#df-1520e4c5-4ffd-4306-91f9-1c61986072e2');\n",
              "          const dataTable =\n",
              "            await google.colab.kernel.invokeFunction('convertToInteractive',\n",
              "                                                     [key], {});\n",
              "          if (!dataTable) return;\n",
              "\n",
              "          const docLinkHtml = 'Like what you see? Visit the ' +\n",
              "            '<a target=\"_blank\" href=https://colab.research.google.com/notebooks/data_table.ipynb>data table notebook</a>'\n",
              "            + ' to learn more about interactive tables.';\n",
              "          element.innerHTML = '';\n",
              "          dataTable['output_type'] = 'display_data';\n",
              "          await google.colab.output.renderOutput(dataTable, element);\n",
              "          const docLink = document.createElement('div');\n",
              "          docLink.innerHTML = docLinkHtml;\n",
              "          element.appendChild(docLink);\n",
              "        }\n",
              "      </script>\n",
              "    </div>\n",
              "  </div>\n",
              "  "
            ]
          },
          "metadata": {},
          "execution_count": 8
        }
      ]
    },
    {
      "cell_type": "code",
      "source": [
        "df.to_csv(\"crypto.csv\", index=False)"
      ],
      "metadata": {
        "id": "5tskBqUppPeH"
      },
      "execution_count": 9,
      "outputs": []
    },
    {
      "cell_type": "code",
      "source": [
        "people = {'data': [{'name': 'John', 'age': '27', 'sex': 'Male'},{'name': 'Marie', 'age': '22', 'sex': 'Female'}],'t':{'2334235'}}"
      ],
      "metadata": {
        "id": "kMv3yEzXeAaJ"
      },
      "execution_count": 10,
      "outputs": []
    },
    {
      "cell_type": "code",
      "source": [
        "people['data']\n",
        "for ele in people['data']:\n",
        "  print(ele['age'])"
      ],
      "metadata": {
        "colab": {
          "base_uri": "https://localhost:8080/"
        },
        "id": "p7RhzxCpeBdo",
        "outputId": "eca77059-1517-4622-f6f4-4f80b4f3968e"
      },
      "execution_count": 11,
      "outputs": [
        {
          "output_type": "stream",
          "name": "stdout",
          "text": [
            "27\n",
            "22\n"
          ]
        }
      ]
    },
    {
      "cell_type": "code",
      "source": [
        ""
      ],
      "metadata": {
        "id": "Ld7bVOkyeBnQ"
      },
      "execution_count": 11,
      "outputs": []
    },
    {
      "cell_type": "code",
      "source": [
        "import getpass\n",
        "pwd=getpass.getpass(\"Enter password:\")"
      ],
      "metadata": {
        "colab": {
          "base_uri": "https://localhost:8080/"
        },
        "id": "yp4s4VVvsH0E",
        "outputId": "0393b03e-9e2b-45d0-845d-db974740345b"
      },
      "execution_count": 12,
      "outputs": [
        {
          "name": "stdout",
          "output_type": "stream",
          "text": [
            "Enter password:··········\n"
          ]
        }
      ]
    },
    {
      "cell_type": "code",
      "source": [
        "import snowflake.connector\n",
        "conn=snowflake.connector.connect(user='admin',\n",
        "                                 password=str(pwd),\n",
        "                                 account='nd74893.us-east-2.aws',\n",
        "                                 warehouse='DWH_01',\n",
        "                                 database='CRYPTO',\n",
        "                                 schema='PUBLIC')"
      ],
      "metadata": {
        "id": "nUeXuv_51O5E"
      },
      "execution_count": 13,
      "outputs": []
    },
    {
      "cell_type": "code",
      "source": [
        "#create cursor\n",
        "curs=conn.cursor()\n",
        "curs.execute('USE ROLE ACCOUNTADMIN')\n",
        "curs.execute('USE DATABASE CRYPTO')\n",
        "curs.execute('USE SCHEMA PUBLIC')\n",
        "sql='DROP TABLE IF EXISTS  \"PUBLIC\".\"CRYPTOTBL\"'\n",
        "curs.execute(sql)\n",
        "curs.execute('CREATE TABLE \"CRYPTOTBL\" (\"symbol\" STRING ,\"name\" STRING,\"priceUsd\" INTEGER)')\n",
        "df1=pd.read_csv(\"crypto.csv\")\n",
        "write_pandas(conn,df1,table_name=\"CRYPTOTBL\")\n",
        "\n",
        "#df=curs.fetch_pandas_all()"
      ],
      "metadata": {
        "colab": {
          "base_uri": "https://localhost:8080/"
        },
        "id": "pVXXJEv0sGn4",
        "outputId": "d41ad985-68f8-4577-d0da-d76574726dca"
      },
      "execution_count": 14,
      "outputs": [
        {
          "output_type": "execute_result",
          "data": {
            "text/plain": [
              "(True,\n",
              " 1,\n",
              " 100,\n",
              " [('kwaua/file0.txt', 'LOADED', 100, 100, 1, 0, None, None, None, None)])"
            ]
          },
          "metadata": {},
          "execution_count": 14
        }
      ]
    },
    {
      "cell_type": "code",
      "source": [
        "df"
      ],
      "metadata": {
        "colab": {
          "base_uri": "https://localhost:8080/",
          "height": 423
        },
        "id": "aVn5iopWv_zp",
        "outputId": "2225724a-ed7c-4fda-f6bd-7feebfc47d6c"
      },
      "execution_count": 15,
      "outputs": [
        {
          "output_type": "execute_result",
          "data": {
            "text/plain": [
              "   symbol           name                priceUsd\n",
              "0     BTC        Bitcoin  38548.4336671874172821\n",
              "1     ETH       Ethereum   2842.1861157064663597\n",
              "2    USDT         Tether      1.0004761828655906\n",
              "3     BNB            BNB    387.7889070470550485\n",
              "4    USDC       USD Coin      1.0005438793058717\n",
              "..    ...            ...                     ...\n",
              "95    HOT           Holo      0.0040039192087602\n",
              "96    KDA         Kadena      3.7403656532700501\n",
              "97    YFI  yearn.finance  17065.5258118859975335\n",
              "98   PAXG       PAX Gold   1871.5183196475613902\n",
              "99    GNO         Gnosis    315.7252901072277113\n",
              "\n",
              "[100 rows x 3 columns]"
            ],
            "text/html": [
              "\n",
              "  <div id=\"df-bd5b0331-8e48-4cfb-a98c-1894bce7ac8f\">\n",
              "    <div class=\"colab-df-container\">\n",
              "      <div>\n",
              "<style scoped>\n",
              "    .dataframe tbody tr th:only-of-type {\n",
              "        vertical-align: middle;\n",
              "    }\n",
              "\n",
              "    .dataframe tbody tr th {\n",
              "        vertical-align: top;\n",
              "    }\n",
              "\n",
              "    .dataframe thead th {\n",
              "        text-align: right;\n",
              "    }\n",
              "</style>\n",
              "<table border=\"1\" class=\"dataframe\">\n",
              "  <thead>\n",
              "    <tr style=\"text-align: right;\">\n",
              "      <th></th>\n",
              "      <th>symbol</th>\n",
              "      <th>name</th>\n",
              "      <th>priceUsd</th>\n",
              "    </tr>\n",
              "  </thead>\n",
              "  <tbody>\n",
              "    <tr>\n",
              "      <th>0</th>\n",
              "      <td>BTC</td>\n",
              "      <td>Bitcoin</td>\n",
              "      <td>38548.4336671874172821</td>\n",
              "    </tr>\n",
              "    <tr>\n",
              "      <th>1</th>\n",
              "      <td>ETH</td>\n",
              "      <td>Ethereum</td>\n",
              "      <td>2842.1861157064663597</td>\n",
              "    </tr>\n",
              "    <tr>\n",
              "      <th>2</th>\n",
              "      <td>USDT</td>\n",
              "      <td>Tether</td>\n",
              "      <td>1.0004761828655906</td>\n",
              "    </tr>\n",
              "    <tr>\n",
              "      <th>3</th>\n",
              "      <td>BNB</td>\n",
              "      <td>BNB</td>\n",
              "      <td>387.7889070470550485</td>\n",
              "    </tr>\n",
              "    <tr>\n",
              "      <th>4</th>\n",
              "      <td>USDC</td>\n",
              "      <td>USD Coin</td>\n",
              "      <td>1.0005438793058717</td>\n",
              "    </tr>\n",
              "    <tr>\n",
              "      <th>...</th>\n",
              "      <td>...</td>\n",
              "      <td>...</td>\n",
              "      <td>...</td>\n",
              "    </tr>\n",
              "    <tr>\n",
              "      <th>95</th>\n",
              "      <td>HOT</td>\n",
              "      <td>Holo</td>\n",
              "      <td>0.0040039192087602</td>\n",
              "    </tr>\n",
              "    <tr>\n",
              "      <th>96</th>\n",
              "      <td>KDA</td>\n",
              "      <td>Kadena</td>\n",
              "      <td>3.7403656532700501</td>\n",
              "    </tr>\n",
              "    <tr>\n",
              "      <th>97</th>\n",
              "      <td>YFI</td>\n",
              "      <td>yearn.finance</td>\n",
              "      <td>17065.5258118859975335</td>\n",
              "    </tr>\n",
              "    <tr>\n",
              "      <th>98</th>\n",
              "      <td>PAXG</td>\n",
              "      <td>PAX Gold</td>\n",
              "      <td>1871.5183196475613902</td>\n",
              "    </tr>\n",
              "    <tr>\n",
              "      <th>99</th>\n",
              "      <td>GNO</td>\n",
              "      <td>Gnosis</td>\n",
              "      <td>315.7252901072277113</td>\n",
              "    </tr>\n",
              "  </tbody>\n",
              "</table>\n",
              "<p>100 rows × 3 columns</p>\n",
              "</div>\n",
              "      <button class=\"colab-df-convert\" onclick=\"convertToInteractive('df-bd5b0331-8e48-4cfb-a98c-1894bce7ac8f')\"\n",
              "              title=\"Convert this dataframe to an interactive table.\"\n",
              "              style=\"display:none;\">\n",
              "        \n",
              "  <svg xmlns=\"http://www.w3.org/2000/svg\" height=\"24px\"viewBox=\"0 0 24 24\"\n",
              "       width=\"24px\">\n",
              "    <path d=\"M0 0h24v24H0V0z\" fill=\"none\"/>\n",
              "    <path d=\"M18.56 5.44l.94 2.06.94-2.06 2.06-.94-2.06-.94-.94-2.06-.94 2.06-2.06.94zm-11 1L8.5 8.5l.94-2.06 2.06-.94-2.06-.94L8.5 2.5l-.94 2.06-2.06.94zm10 10l.94 2.06.94-2.06 2.06-.94-2.06-.94-.94-2.06-.94 2.06-2.06.94z\"/><path d=\"M17.41 7.96l-1.37-1.37c-.4-.4-.92-.59-1.43-.59-.52 0-1.04.2-1.43.59L10.3 9.45l-7.72 7.72c-.78.78-.78 2.05 0 2.83L4 21.41c.39.39.9.59 1.41.59.51 0 1.02-.2 1.41-.59l7.78-7.78 2.81-2.81c.8-.78.8-2.07 0-2.86zM5.41 20L4 18.59l7.72-7.72 1.47 1.35L5.41 20z\"/>\n",
              "  </svg>\n",
              "      </button>\n",
              "      \n",
              "  <style>\n",
              "    .colab-df-container {\n",
              "      display:flex;\n",
              "      flex-wrap:wrap;\n",
              "      gap: 12px;\n",
              "    }\n",
              "\n",
              "    .colab-df-convert {\n",
              "      background-color: #E8F0FE;\n",
              "      border: none;\n",
              "      border-radius: 50%;\n",
              "      cursor: pointer;\n",
              "      display: none;\n",
              "      fill: #1967D2;\n",
              "      height: 32px;\n",
              "      padding: 0 0 0 0;\n",
              "      width: 32px;\n",
              "    }\n",
              "\n",
              "    .colab-df-convert:hover {\n",
              "      background-color: #E2EBFA;\n",
              "      box-shadow: 0px 1px 2px rgba(60, 64, 67, 0.3), 0px 1px 3px 1px rgba(60, 64, 67, 0.15);\n",
              "      fill: #174EA6;\n",
              "    }\n",
              "\n",
              "    [theme=dark] .colab-df-convert {\n",
              "      background-color: #3B4455;\n",
              "      fill: #D2E3FC;\n",
              "    }\n",
              "\n",
              "    [theme=dark] .colab-df-convert:hover {\n",
              "      background-color: #434B5C;\n",
              "      box-shadow: 0px 1px 3px 1px rgba(0, 0, 0, 0.15);\n",
              "      filter: drop-shadow(0px 1px 2px rgba(0, 0, 0, 0.3));\n",
              "      fill: #FFFFFF;\n",
              "    }\n",
              "  </style>\n",
              "\n",
              "      <script>\n",
              "        const buttonEl =\n",
              "          document.querySelector('#df-bd5b0331-8e48-4cfb-a98c-1894bce7ac8f button.colab-df-convert');\n",
              "        buttonEl.style.display =\n",
              "          google.colab.kernel.accessAllowed ? 'block' : 'none';\n",
              "\n",
              "        async function convertToInteractive(key) {\n",
              "          const element = document.querySelector('#df-bd5b0331-8e48-4cfb-a98c-1894bce7ac8f');\n",
              "          const dataTable =\n",
              "            await google.colab.kernel.invokeFunction('convertToInteractive',\n",
              "                                                     [key], {});\n",
              "          if (!dataTable) return;\n",
              "\n",
              "          const docLinkHtml = 'Like what you see? Visit the ' +\n",
              "            '<a target=\"_blank\" href=https://colab.research.google.com/notebooks/data_table.ipynb>data table notebook</a>'\n",
              "            + ' to learn more about interactive tables.';\n",
              "          element.innerHTML = '';\n",
              "          dataTable['output_type'] = 'display_data';\n",
              "          await google.colab.output.renderOutput(dataTable, element);\n",
              "          const docLink = document.createElement('div');\n",
              "          docLink.innerHTML = docLinkHtml;\n",
              "          element.appendChild(docLink);\n",
              "        }\n",
              "      </script>\n",
              "    </div>\n",
              "  </div>\n",
              "  "
            ]
          },
          "metadata": {},
          "execution_count": 15
        }
      ]
    },
    {
      "cell_type": "code",
      "source": [
        "df1=pd.read_csv(\"crypto.csv\")\n",
        "df1.head()"
      ],
      "metadata": {
        "colab": {
          "base_uri": "https://localhost:8080/",
          "height": 206
        },
        "id": "Nf7yDjz8ebBF",
        "outputId": "350e7e99-c20b-4213-a509-ae25bcca4e0b"
      },
      "execution_count": 16,
      "outputs": [
        {
          "output_type": "execute_result",
          "data": {
            "text/plain": [
              "  symbol      name      priceUsd\n",
              "0    BTC   Bitcoin  38548.433667\n",
              "1    ETH  Ethereum   2842.186116\n",
              "2   USDT    Tether      1.000476\n",
              "3    BNB       BNB    387.788907\n",
              "4   USDC  USD Coin      1.000544"
            ],
            "text/html": [
              "\n",
              "  <div id=\"df-6907a22e-819b-4927-b004-c030fc69b916\">\n",
              "    <div class=\"colab-df-container\">\n",
              "      <div>\n",
              "<style scoped>\n",
              "    .dataframe tbody tr th:only-of-type {\n",
              "        vertical-align: middle;\n",
              "    }\n",
              "\n",
              "    .dataframe tbody tr th {\n",
              "        vertical-align: top;\n",
              "    }\n",
              "\n",
              "    .dataframe thead th {\n",
              "        text-align: right;\n",
              "    }\n",
              "</style>\n",
              "<table border=\"1\" class=\"dataframe\">\n",
              "  <thead>\n",
              "    <tr style=\"text-align: right;\">\n",
              "      <th></th>\n",
              "      <th>symbol</th>\n",
              "      <th>name</th>\n",
              "      <th>priceUsd</th>\n",
              "    </tr>\n",
              "  </thead>\n",
              "  <tbody>\n",
              "    <tr>\n",
              "      <th>0</th>\n",
              "      <td>BTC</td>\n",
              "      <td>Bitcoin</td>\n",
              "      <td>38548.433667</td>\n",
              "    </tr>\n",
              "    <tr>\n",
              "      <th>1</th>\n",
              "      <td>ETH</td>\n",
              "      <td>Ethereum</td>\n",
              "      <td>2842.186116</td>\n",
              "    </tr>\n",
              "    <tr>\n",
              "      <th>2</th>\n",
              "      <td>USDT</td>\n",
              "      <td>Tether</td>\n",
              "      <td>1.000476</td>\n",
              "    </tr>\n",
              "    <tr>\n",
              "      <th>3</th>\n",
              "      <td>BNB</td>\n",
              "      <td>BNB</td>\n",
              "      <td>387.788907</td>\n",
              "    </tr>\n",
              "    <tr>\n",
              "      <th>4</th>\n",
              "      <td>USDC</td>\n",
              "      <td>USD Coin</td>\n",
              "      <td>1.000544</td>\n",
              "    </tr>\n",
              "  </tbody>\n",
              "</table>\n",
              "</div>\n",
              "      <button class=\"colab-df-convert\" onclick=\"convertToInteractive('df-6907a22e-819b-4927-b004-c030fc69b916')\"\n",
              "              title=\"Convert this dataframe to an interactive table.\"\n",
              "              style=\"display:none;\">\n",
              "        \n",
              "  <svg xmlns=\"http://www.w3.org/2000/svg\" height=\"24px\"viewBox=\"0 0 24 24\"\n",
              "       width=\"24px\">\n",
              "    <path d=\"M0 0h24v24H0V0z\" fill=\"none\"/>\n",
              "    <path d=\"M18.56 5.44l.94 2.06.94-2.06 2.06-.94-2.06-.94-.94-2.06-.94 2.06-2.06.94zm-11 1L8.5 8.5l.94-2.06 2.06-.94-2.06-.94L8.5 2.5l-.94 2.06-2.06.94zm10 10l.94 2.06.94-2.06 2.06-.94-2.06-.94-.94-2.06-.94 2.06-2.06.94z\"/><path d=\"M17.41 7.96l-1.37-1.37c-.4-.4-.92-.59-1.43-.59-.52 0-1.04.2-1.43.59L10.3 9.45l-7.72 7.72c-.78.78-.78 2.05 0 2.83L4 21.41c.39.39.9.59 1.41.59.51 0 1.02-.2 1.41-.59l7.78-7.78 2.81-2.81c.8-.78.8-2.07 0-2.86zM5.41 20L4 18.59l7.72-7.72 1.47 1.35L5.41 20z\"/>\n",
              "  </svg>\n",
              "      </button>\n",
              "      \n",
              "  <style>\n",
              "    .colab-df-container {\n",
              "      display:flex;\n",
              "      flex-wrap:wrap;\n",
              "      gap: 12px;\n",
              "    }\n",
              "\n",
              "    .colab-df-convert {\n",
              "      background-color: #E8F0FE;\n",
              "      border: none;\n",
              "      border-radius: 50%;\n",
              "      cursor: pointer;\n",
              "      display: none;\n",
              "      fill: #1967D2;\n",
              "      height: 32px;\n",
              "      padding: 0 0 0 0;\n",
              "      width: 32px;\n",
              "    }\n",
              "\n",
              "    .colab-df-convert:hover {\n",
              "      background-color: #E2EBFA;\n",
              "      box-shadow: 0px 1px 2px rgba(60, 64, 67, 0.3), 0px 1px 3px 1px rgba(60, 64, 67, 0.15);\n",
              "      fill: #174EA6;\n",
              "    }\n",
              "\n",
              "    [theme=dark] .colab-df-convert {\n",
              "      background-color: #3B4455;\n",
              "      fill: #D2E3FC;\n",
              "    }\n",
              "\n",
              "    [theme=dark] .colab-df-convert:hover {\n",
              "      background-color: #434B5C;\n",
              "      box-shadow: 0px 1px 3px 1px rgba(0, 0, 0, 0.15);\n",
              "      filter: drop-shadow(0px 1px 2px rgba(0, 0, 0, 0.3));\n",
              "      fill: #FFFFFF;\n",
              "    }\n",
              "  </style>\n",
              "\n",
              "      <script>\n",
              "        const buttonEl =\n",
              "          document.querySelector('#df-6907a22e-819b-4927-b004-c030fc69b916 button.colab-df-convert');\n",
              "        buttonEl.style.display =\n",
              "          google.colab.kernel.accessAllowed ? 'block' : 'none';\n",
              "\n",
              "        async function convertToInteractive(key) {\n",
              "          const element = document.querySelector('#df-6907a22e-819b-4927-b004-c030fc69b916');\n",
              "          const dataTable =\n",
              "            await google.colab.kernel.invokeFunction('convertToInteractive',\n",
              "                                                     [key], {});\n",
              "          if (!dataTable) return;\n",
              "\n",
              "          const docLinkHtml = 'Like what you see? Visit the ' +\n",
              "            '<a target=\"_blank\" href=https://colab.research.google.com/notebooks/data_table.ipynb>data table notebook</a>'\n",
              "            + ' to learn more about interactive tables.';\n",
              "          element.innerHTML = '';\n",
              "          dataTable['output_type'] = 'display_data';\n",
              "          await google.colab.output.renderOutput(dataTable, element);\n",
              "          const docLink = document.createElement('div');\n",
              "          docLink.innerHTML = docLinkHtml;\n",
              "          element.appendChild(docLink);\n",
              "        }\n",
              "      </script>\n",
              "    </div>\n",
              "  </div>\n",
              "  "
            ]
          },
          "metadata": {},
          "execution_count": 16
        }
      ]
    },
    {
      "cell_type": "code",
      "source": [
        "!pip freeze >requirements.txt"
      ],
      "metadata": {
        "id": "3FzR9UD2PFQK"
      },
      "execution_count": 17,
      "outputs": []
    },
    {
      "cell_type": "code",
      "source": [
        ""
      ],
      "metadata": {
        "id": "2F_dr8qYPJ6b"
      },
      "execution_count": 17,
      "outputs": []
    }
  ]
}